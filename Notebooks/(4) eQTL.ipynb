{
 "cells": [
  {
   "cell_type": "code",
   "execution_count": null,
   "id": "29f1aa14-f6e6-4fad-927b-90ad0184924b",
   "metadata": {},
   "outputs": [],
   "source": [
    "import pandas as pd\n",
    "import os\n",
    "import glob\n",
    "import numpy as np"
   ]
  },
  {
   "cell_type": "markdown",
   "id": "4a8edc7f-0e54-4e8d-b3fb-f1207449c064",
   "metadata": {},
   "source": [
    "## Extracting relevant columns"
   ]
  },
  {
   "cell_type": "code",
   "execution_count": null,
   "id": "51c0564c-92c4-439a-a450-bba90c29ef21",
   "metadata": {},
   "outputs": [],
   "source": [
    "# Download GTEx_Analysis_v10_eQTL.tar from https://www.gtexportal.org/home/downloads/adult-gtex/qtl and extract\n",
    "\n",
    "# Cleaning raw eQTL data from GTEx v10\n",
    "input_dir = './eQTL/Raw/'\n",
    "output_dir = './eQTL/Processed/'\n",
    "\n",
    "for file in os.listdir(input_dir):\n",
    "    if file.endswith('.parquet'):\n",
    "        tissue_name = file.replace('.v10.eQTLs.signif_pairs.parquet', '')\n",
    "        df = pd.read_parquet(os.path.join(input_dir, file))\n",
    "        df = df[['gene_id', 'variant_id', 'tss_distance', 'pval_nominal', 'slope']]\n",
    "        df['tissue'] = tissue_name\n",
    "        output_path = os.path.join(output_dir, f\"{tissue_name}.parquet\")\n",
    "        df.to_parquet(output_path)\n",
    "\n",
    "# Combining into a single file\n",
    "input_dir = \"./eQTL/Processed\"\n",
    "parquet_files = glob.glob(f\"{input_dir}/*.parquet\")\n",
    "df_list = [pd.read_parquet(pf) for pf in parquet_files]\n",
    "combined_df = pd.concat(df_list, ignore_index=True)\n",
    "combined_df.to_parquet(\"./eQTL/combined.parquet\")\n",
    "\n",
    "# Select protein coding genes\n",
    "targets = pd.read_pickle('./OT/Raw/targets.pkl')\n",
    "targets = targets.loc[targets['biotype'] == 'protein_coding']\n",
    "targets = targets[['id','approvedSymbol']].set_axis(['gene_id','gene'],axis=1)\n",
    "\n",
    "df = pd.read_parquet(\"./eQTL/combined.parquet\")\n",
    "df['gene_id'] = df['gene_id'].str.split('.').str[0]\n",
    "df = df.loc[df['gene_id'].isin(targets['gene_id'])]\n",
    "df['variant_id'] = df['variant_id'].str.replace('_b38','')\n",
    "df['variant_id'] = df['variant_id'].str.replace('chr','')\n",
    "df = df.merge(targets)\n",
    "df = df[['gene','variant_id','tss_distance','pval_nominal','slope','tissue']]\n",
    "df['pval_nominal'] = -np.log10(df['pval_nominal'])\n",
    "df.loc[df['pval_nominal'] > 500, 'pval_nominal'] = 500\n",
    "df.to_parquet(\"./eQTL/combined.parquet\")\n",
    "\n",
    "df = df.sort_values('pval_nominal', ascending=False)\n",
    "df = df.drop_duplicates(['gene','variant_id','tissue'])\n",
    "df.loc[df['slope'] >= 0, 'slope'] = 1\n",
    "df.loc[df['slope'] < 0, 'slope'] = -1\n",
    "df['pval_nominal'] = df['pval_nominal'].round(4)\n",
    "df = df.rename({'pval_nominal':'eqtl_log10p'},axis=1)\n",
    "df.to_parquet(\"./eQTL/combined_slim.parquet\")\n"
   ]
  },
  {
   "cell_type": "markdown",
   "id": "7c3bf7f4-76d6-40ce-950a-5d3e6770e473",
   "metadata": {},
   "source": [
    "## Creating subsetted files for each dataset"
   ]
  },
  {
   "cell_type": "code",
   "execution_count": null,
   "id": "1eed6242-0808-41b1-b81f-185b013b1e1d",
   "metadata": {},
   "outputs": [],
   "source": [
    "df = pd.read_parquet(\"./eQTL/combined.parquet\")\n",
    "\n",
    "# Most significant tissue AND closest gene\n",
    "at = df.drop_duplicates(['gene','variant_id'])\n",
    "at['tss_distance'] = at['tss_distance'].abs()\n",
    "at = at.sort_values(['tss_distance','eqtl_log10p'], ascending=[True,False]).drop_duplicates(['variant_id'])\n",
    "\n",
    "at = at[['gene','variant_id','slope']]\n",
    "\n",
    "flip = at.copy()\n",
    "flip['slope'] = flip['slope']*-1\n",
    "flip['variant_id']=flip['variant_id'].apply(lambda x:'_'.join(x.split('_')[:-2]+x.split('_')[-1:-3:-1]))\n",
    "\n",
    "at = pd.concat([at,flip])\n",
    "at = at.reset_index(drop=True).drop_duplicates()\n",
    "at.to_parquet('./eQTL/all_tissues_max_p_closest_gene.parquet')\n",
    "\n",
    "#####\n",
    "\n",
    "at = pd.read_parquet('./eQTL/all_tissues_max_p_closest_gene.parquet')\n",
    "\n",
    "fg = pd.read_csv(f'./Finngen/Annotations/common_var.tsv', sep='\\t')\n",
    "fg['variant_id'] = fg['id'].str.replace(r'^23:', 'X:', regex=True).str.replace(':','_')\n",
    "fg = fg.merge(at)\n",
    "fg[['id','gene','slope']].to_pickle('./eQTL/finngen_eqtl_closest_gene.pkl')\n",
    "\n",
    "ukb = pd.read_pickle('./PanUKBB/variant_conv.pkl')\n",
    "ukb = ukb.rename({'id_38':'variant_id'},axis=1)\n",
    "ukb = ukb.merge(at)\n",
    "ukb[['id_19','gene','slope']].to_pickle('./eQTL/panukbb_eqtl_closest_gene.pkl')\n",
    "\n",
    "mvp = pd.read_csv('./MVP/unique_variants.txt', sep='\\s+')\n",
    "mvp['pos'] = mvp['pos'].astype(int)\n",
    "mvp['variant_id'] = mvp['chrom'].astype(str) + '_' + mvp['pos'].astype(str) + '_' + mvp['ref'] + '_' + mvp['alt']\n",
    "mvp = mvp.merge(at)\n",
    "mvp = mvp[['variant_id','gene','slope']]\n",
    "mvp.to_pickle('./eQTL/mvp_eqtl_closest_gene.pkl')"
   ]
  },
  {
   "cell_type": "markdown",
   "id": "09bf3ede-2044-4397-a11e-3d68af5d5260",
   "metadata": {},
   "source": [
    "## Processing MVP"
   ]
  },
  {
   "cell_type": "code",
   "execution_count": null,
   "id": "94b713d6-e614-40ee-8233-f48e0189fec5",
   "metadata": {},
   "outputs": [],
   "source": [
    "mvp = pd.read_pickle('./eQTL/mvp_eqtl_closest_gene.pkl')\n",
    "\n",
    "for f in glob.glob('./MVP/Cleaned/*.txt'):\n",
    "    name = f.split('/')[-1].split('.txt')[0]\n",
    "    temp = pd.read_csv(f, sep=' ')\n",
    "    temp['pos'] = temp['pos'].astype(int)\n",
    "    temp['variant_id'] = temp['chrom'].astype(str) + '_' + temp['pos'].astype(str) + '_' + temp['ref'] + '_' + temp['alt']\n",
    "    temp['pval'] = -np.log10(temp['pval'])\n",
    "    temp = temp.merge(mvp)\n",
    "    temp['dir'] = 'opposite'\n",
    "    temp['beta'] = np.log10(temp['or'])\n",
    "    temp.loc[temp['beta']/temp['slope']>=0,'dir']='same'\n",
    "    temp = temp.groupby(['gene','dir'],as_index=False)['pval'].max()\n",
    "    temp = temp.pivot(index='gene', columns='dir', values='pval').reset_index()\n",
    "    temp['pheno']=name\n",
    "    temp.to_csv(f'./MVP/eQTL/{name}.eqtl_closest',sep='\\t',index=False)\n",
    "\n",
    "pd.concat([pd.read_csv(f,sep='\\t') for f in glob.glob('./MVP/eQTL/*.eqtl_closest')],ignore_index=True).to_csv('./MVP/combined_eqtl_closest.tsv',sep='\\t',index=False)\n"
   ]
  },
  {
   "cell_type": "markdown",
   "id": "e93a63b9-38a5-4c7c-9e49-8297036216f1",
   "metadata": {},
   "source": [
    "## Processing PanUKBB"
   ]
  },
  {
   "cell_type": "code",
   "execution_count": null,
   "id": "a7580290-5d8f-4c91-9d73-1abf7c986318",
   "metadata": {},
   "outputs": [],
   "source": [
    "ukb = pd.read_pickle('./eQTL/panukbb_eqtl_closest_gene.pkl').rename({'id_19':'id'},axis=1)\n",
    "\n",
    "for f in glob.glob('./PanUKBB/Subset/*.tsv'):\n",
    "    name = f.split('/')[-1].split('.tsv')[0]\n",
    "    name = name.replace('-both_sexes','').replace('-females','').replace('-males','')\n",
    "    temp = pd.read_csv(f, sep='\\t', usecols=['id','neglog10_pval','beta'])\n",
    "    temp = temp.merge(ukb, on='id')\n",
    "    temp['dir'] = 'opposite'\n",
    "    temp.loc[temp['beta']/temp['slope']>=0,'dir']='same'\n",
    "    temp = temp.groupby(['gene','dir'],as_index=False)['neglog10_pval'].max()\n",
    "    temp = temp.pivot(index='gene', columns='dir', values='neglog10_pval').reset_index()\n",
    "    temp['pheno']=name\n",
    "    temp.to_csv(f'./PanUKBB/eQTL/{name}.eqtl_closest',sep='\\t',index=False)\n",
    "\n",
    "pd.concat([pd.read_csv(f,sep='\\t') for f in glob.glob('./PanUKBB/eQTL/*.eqtl_closest')],ignore_index=True).to_csv('./PanUKBB/combined_eqtl_closest.tsv',sep='\\t',index=False)\n"
   ]
  },
  {
   "cell_type": "markdown",
   "id": "29351550-6008-41d1-929b-3795d8582120",
   "metadata": {},
   "source": [
    "## Processing FinnGen"
   ]
  },
  {
   "cell_type": "code",
   "execution_count": null,
   "id": "ec511735-57c9-48e8-8711-26bec5b89702",
   "metadata": {},
   "outputs": [],
   "source": [
    "fg = pd.read_pickle('./eQTL/finngen_eqtl_closest_gene.pkl')\n",
    "\n",
    "for f in glob.glob('./Finngen/Common/finngen_R12_*.sig'):\n",
    "    pheno = f.split('finngen_R12_')[1].split('.sig')[0]\n",
    "    temp = pd.read_csv(f, sep='\\t', usecols=['id','log10p','beta'])\n",
    "    temp = temp.merge(fg, on='id')\n",
    "    temp['dir'] = 'opposite'\n",
    "    temp.loc[temp['beta']/temp['slope']>=0,'dir']='same'\n",
    "    temp = temp.groupby(['gene','dir'],as_index=False)['log10p'].max()\n",
    "    temp = temp.pivot(index='gene', columns='dir', values='log10p').reset_index()\n",
    "    temp['pheno']=pheno\n",
    "    temp.to_csv(f'./Finngen/eQTL/{pheno}.eqtl_closest',sep='\\t',index=False)\n",
    "\n",
    "pd.concat([pd.read_csv(f,sep='\\t') for f in glob.glob('./Finngen/eQTL/*.eqtl_closest')],ignore_index=True).to_csv('./Finngen/combined_eqtl_closest.tsv',sep='\\t',index=False)\n"
   ]
  }
 ],
 "metadata": {
  "kernelspec": {
   "display_name": "Python 3 (ipykernel)",
   "language": "python",
   "name": "python3"
  },
  "language_info": {
   "codemirror_mode": {
    "name": "ipython",
    "version": 3
   },
   "file_extension": ".py",
   "mimetype": "text/x-python",
   "name": "python",
   "nbconvert_exporter": "python",
   "pygments_lexer": "ipython3",
   "version": "3.12.2"
  }
 },
 "nbformat": 4,
 "nbformat_minor": 5
}
