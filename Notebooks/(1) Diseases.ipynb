{
 "cells": [
  {
   "cell_type": "code",
   "execution_count": null,
   "id": "9e75e3fa-84f0-4706-83be-2e9348b10552",
   "metadata": {},
   "outputs": [],
   "source": [
    "import pandas as pd\n",
    "\n",
    "custom = pd.read_excel('./Phenotyping/custom_phenotypes.xlsx')\n",
    "custom['phecode1.2'] = custom['phecode1.2'].astype(float)\n",
    "\n",
    "icd = pd.read_fwf('./Phenotyping/icd10cm-order-2025.txt', header=None)\n",
    "icd = icd[[1,3]].set_axis(['ICD','Description'],axis=1)\n",
    "icd['Category'] = icd['ICD'].str[0]\n",
    "icd['Number'] = icd['ICD'].str[1:3].str.extract('(\\d+)').astype(int)\n",
    "icd['Level'] = icd['ICD'].str.len()\n",
    "\n",
    "icd = icd.loc[icd['Level'] == 3]\n",
    "icd = icd.loc[~icd['Category'].isin(['A','B','C','O','P','S','T','U','V','W','X','Y','Z'])]\n",
    "icd = icd.loc[~((icd['Category'] == 'D') & (icd['Number'] <= 53))]\n",
    "# Communicable, maternal, perinatal and nutritional conditions\n",
    "# https://platform.who.int/mortality/about/list-of-causes-and-corresponding-icd-10-codes\n",
    "pattern = r'^(A[0-9]{2}|B[0-9]{2}|D5[0-3]|D64|E0[0-2]|E4[0-6]|E5[0-9]|E6[0-4]|G0[0-4]|G14|H6[5-6]|J[0-2][0-9]|N7[0-3]|O[0-9]{2}|P[0-9]{2}|U04|U07|U09|U10)$'\n",
    "icd = icd.loc[~icd['ICD'].str.match(pattern)]\n",
    "icd.reset_index(drop=True).to_csv('./Phenotyping/icd_codes.csv', index=False)\n",
    "\n",
    "temp = custom.loc[~custom['single_icd'].isin(icd['ICD'])]\n",
    "temp = temp[['custom_code','icd_category','phenotype']].drop_duplicates().set_axis(['Code','Category','Description'],axis=1)\n",
    "temp_icd = icd[['ICD','Category','Description']].set_axis(['Code','Category','Description'],axis=1)\n",
    "temp = pd.concat([temp_icd,temp]).reset_index(drop=True)\n",
    "temp.to_excel('./Phenotyping/merged_phenotypes.xlsx', index=False)"
   ]
  }
 ],
 "metadata": {
  "kernelspec": {
   "display_name": "Python 3 (ipykernel)",
   "language": "python",
   "name": "python3"
  },
  "language_info": {
   "codemirror_mode": {
    "name": "ipython",
    "version": 3
   },
   "file_extension": ".py",
   "mimetype": "text/x-python",
   "name": "python",
   "nbconvert_exporter": "python",
   "pygments_lexer": "ipython3",
   "version": "3.12.2"
  }
 },
 "nbformat": 4,
 "nbformat_minor": 5
}
